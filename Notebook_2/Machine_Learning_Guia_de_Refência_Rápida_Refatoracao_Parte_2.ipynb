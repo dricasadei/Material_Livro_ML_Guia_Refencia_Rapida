{
  "nbformat": 4,
  "nbformat_minor": 0,
  "metadata": {
    "colab": {
      "provenance": []
    },
    "kernelspec": {
      "name": "python3",
      "display_name": "Python 3"
    },
    "language_info": {
      "name": "python"
    }
  },
  "cells": [
    {
      "cell_type": "markdown",
      "source": [
        "# Pergunta a ser respondida:\n",
        "\n",
        "- Classificar se um indivíduo sobreviveu ou morreu ao afundamento do Titanic.\n",
        "\n",
        "  - Temos uma pergunta de classificação, pois estamos fazendo a predição de um rótulo (label) acerca da sobrevivência: um passageiro sobreviveu ou morreu."
      ],
      "metadata": {
        "id": "xegu9hdELw8M"
      }
    },
    {
      "cell_type": "markdown",
      "source": [
        "## Dicionários dos atributos:\n",
        "\n",
        "- pclass: classe do passageiro (1=primeiroa, 2=segunda, 3=terceira);\n",
        "- survived: sobreviveu (0=não, 1=sim);\n",
        "- name: nome;\n",
        "- sex: sexo;\n",
        "- age: idade;\n",
        "- sibsp: número de irmãos/esposa(o) a bordo;\n",
        "- parch: número de pais/filhos a bordo;\n",
        "- ticket: número da passagem;\n",
        "- fare: preço da passagem;\n",
        "- cabin: cabine;\n",
        "- embarked: local em que o passageiro embarcou (C=Cherbourg, Q=Queenstown, S=Southampton);\n",
        "- boat: bote salva-vidas;\n",
        "- body: número de identificação do corpo;\n",
        "- home.dest: lar/destino;"
      ],
      "metadata": {
        "id": "4ymQL2SgL2RD"
      }
    },
    {
      "cell_type": "markdown",
      "source": [
        "## Refatoração do código"
      ],
      "metadata": {
        "id": "NORcUEYrL9eb"
      }
    },
    {
      "cell_type": "markdown",
      "source": [
        "### Imports necessários"
      ],
      "metadata": {
        "id": "KjfvBtnQML-Y"
      }
    },
    {
      "cell_type": "code",
      "execution_count": 1,
      "metadata": {
        "id": "_zzsYfUoLq1a"
      },
      "outputs": [],
      "source": [
        "import matplotlib.pyplot as plt\n",
        "import pandas as pd\n",
        "from yellowbrick.classifier import ConfusionMatrix\n",
        "from yellowbrick.classifier import ROCAUC\n",
        "from sklearn import (\n",
        "    ensemble,\n",
        "    preprocessing,\n",
        "    tree\n",
        ")\n",
        "from sklearn.metrics import (\n",
        "    auc,\n",
        "    confusion_matrix,\n",
        "    roc_auc_score,\n",
        "    roc_curve\n",
        ")\n",
        "from sklearn import model_selection\n",
        "from sklearn.model_selection import (\n",
        "    train_test_split,\n",
        "    StratifiedKFold\n",
        ")\n",
        "from yellowbrick.model_selection import (\n",
        "    LearningCurve\n",
        ")\n",
        "from sklearn.experimental import (enable_iterative_imputer)\n",
        "from sklearn import impute"
      ]
    },
    {
      "cell_type": "markdown",
      "source": [
        "### Extração dos dados e formação do dataframe"
      ],
      "metadata": {
        "id": "jY6JBsCjMRGv"
      }
    },
    {
      "cell_type": "code",
      "source": [
        "df = pd.read_csv(\"titanic3.csv\")"
      ],
      "metadata": {
        "id": "IxEVhzhLMXZy"
      },
      "execution_count": 2,
      "outputs": []
    },
    {
      "cell_type": "markdown",
      "source": [
        "## Funções:"
      ],
      "metadata": {
        "id": "6IknnpBSMeUo"
      }
    },
    {
      "cell_type": "markdown",
      "source": [
        "### Limpeza dos dados"
      ],
      "metadata": {
        "id": "WeoyKxiWNT9u"
      }
    },
    {
      "cell_type": "markdown",
      "source": [
        "- exclusão dos campos desnecessários;\n",
        "- transformação das variáveis dummies;"
      ],
      "metadata": {
        "id": "U3xQBzhlNJpf"
      }
    },
    {
      "cell_type": "code",
      "source": [
        "def limpeza_dados(df):\n",
        "  df = df.drop(\n",
        "            columns=[\n",
        "                      \"name\",\n",
        "                      \"ticket\",\n",
        "                      \"home.dest\",\n",
        "                      \"boat\",\n",
        "                      \"body\",\n",
        "                      \"cabin\"\n",
        "  ]).pipe(pd.get_dummies, drop_first=True) # O uso do pipe permite que essas operações sejam encadeadas de forma mais limpa e eficiente\n",
        "\n",
        "  return df"
      ],
      "metadata": {
        "id": "0dJRglL_Mdzj"
      },
      "execution_count": 3,
      "outputs": []
    },
    {
      "cell_type": "markdown",
      "source": [
        "### Divisão de dados para treino e teste e imputando dados ausentes"
      ],
      "metadata": {
        "id": "bglv7L_0NYk2"
      }
    },
    {
      "cell_type": "code",
      "source": [
        "def get_train_test_X_y(df, y_col, size=0.3, std_cols=None):\n",
        "  y = df[y_col]\n",
        "  X = df.drop(columns=y_col)\n",
        "  X_train, X_test, y_train, y_test = model_selection.train_test_split(\n",
        "                                                                      X, y, test_size=size, random_state=42\n",
        "                                                                    )\n",
        "  cols = X.columns\n",
        "  num_cols = [\n",
        "                \"pclass\",\n",
        "                \"age\",\n",
        "                \"sibsp\",\n",
        "                \"parch\",\n",
        "                \"fare\"\n",
        "              ]\n",
        "\n",
        "  fi = impute.IterativeImputer()\n",
        "  X_train.loc[:, num_cols] = fi.fit_transform(X_train[num_cols])\n",
        "  X_test.loc[:, num_cols] = fi.transform(X_test[num_cols])\n",
        "\n",
        "  if std_cols:\n",
        "    std = preprocessing.StandardScaler()\n",
        "    X_train.loc[:, std_cols] = std.fit_transform(X_train[std_cols])\n",
        "    X_test.loc[:, std_cols] = std.transform(X_test[std_cols])\n",
        "\n",
        "    return X_train, X_test, y_train, y_test\n",
        "\n",
        "#.loc[:, num_cols] - pega todas as linhas (:) e as coliunas indicadas na variável num_cols"
      ],
      "metadata": {
        "id": "R9GuCOiiNG6G"
      },
      "execution_count": 4,
      "outputs": []
    },
    {
      "cell_type": "markdown",
      "source": [
        "## Chamando as funções"
      ],
      "metadata": {
        "id": "VgxuhwSwPg2w"
      }
    },
    {
      "cell_type": "code",
      "source": [
        "ti_df = limpeza_dados(df)\n",
        "std_cols = \"pclass,age,sibsp,fare\".split(\",\")\n",
        "X_train, X_test, y_train, y_test = get_train_test_X_y(ti_df, \"survived\", std_cols=std_cols)"
      ],
      "metadata": {
        "id": "d6ei5tCEPgTZ"
      },
      "execution_count": 5,
      "outputs": []
    },
    {
      "cell_type": "markdown",
      "source": [
        "## Modelo - teste 1"
      ],
      "metadata": {
        "id": "zk6JunIqR6OQ"
      }
    },
    {
      "cell_type": "code",
      "source": [
        "from sklearn.dummy import DummyClassifier\n",
        "\n",
        "bm = DummyClassifier()\n",
        "\n",
        "bm.fit(X_train, y_train)\n",
        "bm.score(X_test, y_test) # precisão"
      ],
      "metadata": {
        "colab": {
          "base_uri": "https://localhost:8080/"
        },
        "id": "5Kyxh8zMSFBr",
        "outputId": "9832d192-5253-432e-d327-0c18406acb52"
      },
      "execution_count": 6,
      "outputs": [
        {
          "output_type": "execute_result",
          "data": {
            "text/plain": [
              "0.5699745547073791"
            ]
          },
          "metadata": {},
          "execution_count": 6
        }
      ]
    },
    {
      "cell_type": "markdown",
      "source": [
        "### Vendo a métrica da precisão"
      ],
      "metadata": {
        "id": "oXbl4NrISVFD"
      }
    },
    {
      "cell_type": "code",
      "source": [
        "from sklearn import metrics\n",
        "\n",
        "metrics.precision_score(y_test, bm.predict(X_test))"
      ],
      "metadata": {
        "colab": {
          "base_uri": "https://localhost:8080/"
        },
        "id": "d2acuXx4SYMY",
        "outputId": "0ba53813-a92c-4f87-f430-755e5bbf4a84"
      },
      "execution_count": 7,
      "outputs": [
        {
          "output_type": "stream",
          "name": "stderr",
          "text": [
            "/usr/local/lib/python3.10/dist-packages/sklearn/metrics/_classification.py:1344: UndefinedMetricWarning: Precision is ill-defined and being set to 0.0 due to no predicted samples. Use `zero_division` parameter to control this behavior.\n",
            "  _warn_prf(average, modifier, msg_start, len(result))\n"
          ]
        },
        {
          "output_type": "execute_result",
          "data": {
            "text/plain": [
              "0.0"
            ]
          },
          "metadata": {},
          "execution_count": 7
        }
      ]
    }
  ]
}